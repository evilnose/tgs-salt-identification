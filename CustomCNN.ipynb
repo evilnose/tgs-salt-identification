{
 "cells": [
  {
   "cell_type": "code",
   "execution_count": 1,
   "metadata": {},
   "outputs": [
    {
     "name": "stderr",
     "output_type": "stream",
     "text": [
      "Using TensorFlow backend.\n"
     ]
    }
   ],
   "source": [
    "import numpy as np\n",
    "import matplotlib.pyplot as plt\n",
    "import keras\n",
    "from keras.layers import Input\n",
    "from keras.models import Model\n",
    "from keras.callbacks import EarlyStopping, ModelCheckpoint, TensorBoard\n",
    "from keras.optimizers import Adam\n",
    "\n",
    "from trainer.data import load_train_data, bounding_box, normalize_bounding_box, original_bounding_box\n",
    "from trainer.constants import IM_SHAPE_BBOX\n",
    "from trainer.models import CustomCNN, MiniCNN\n",
    "from trainer.utils import bbox_loss_batch, bbox_mIOU, coord_only_mIOU, no_coord_error\n",
    "\n",
    "np.random.seed(0)\n",
    "\n",
    "%matplotlib inline"
   ]
  },
  {
   "cell_type": "code",
   "execution_count": 2,
   "metadata": {},
   "outputs": [],
   "source": [
    "X_train, Y_train_orig = load_train_data(resize_shape=IM_SHAPE_BBOX)\n",
    "Y_train_unscaled = bounding_box(Y_train_orig)\n",
    "Y_train = normalize_bounding_box(Y_train_unscaled)"
   ]
  },
  {
   "cell_type": "code",
   "execution_count": 3,
   "metadata": {},
   "outputs": [
    {
     "name": "stdout",
     "output_type": "stream",
     "text": [
      "1.0 4.5 27.5 9.0 55.0\n"
     ]
    },
    {
     "data": {
      "image/png": "[encoded data removed]",
      "text/plain": [
       "<Figure size 432x432 with 1 Axes>"
      ]
     },
     "metadata": {},
     "output_type": "display_data"
    }
   ],
   "source": [
    "\"\"\"Confirm that bounding box is working\"\"\"\n",
    "ix = 1001\n",
    "mask = Y_train_orig[ix].astype(np.float32)\n",
    "mask = np.repeat(mask, 3, 2)\n",
    "p_c, b_x, b_y, b_w, b_h = Y_train_unscaled[ix]\n",
    "print(p_c, b_x, b_y, b_w, b_h)\n",
    "\n",
    "assert p_c == 1\n",
    "RED = [1.0, 0, 0]\n",
    "mask[int(b_y), int(b_x)] = RED\n",
    "mask[int(b_y + b_h / 2), int(b_x)] = RED\n",
    "mask[int(b_y - b_h / 2), int(b_x)] = RED\n",
    "mask[int(b_y), int(b_x + b_w / 2)] = RED\n",
    "mask[int(b_y), int(b_x - b_w / 2)] = RED\n",
    "\n",
    "fig, ax = plt.subplots(figsize=(6, 6))\n",
    "plt.axis('off')\n",
    "plt.imshow(mask, aspect='auto')\n",
    "plt.show()"
   ]
  },
  {
   "cell_type": "code",
   "execution_count": 4,
   "metadata": {},
   "outputs": [
    {
     "name": "stdout",
     "output_type": "stream",
     "text": [
      "_________________________________________________________________\n",
      "Layer (type)                 Output Shape              Param #   \n",
      "=================================================================\n",
      "input_1 (InputLayer)         (None, 128, 128, 1)       0         \n",
      "_________________________________________________________________\n",
      "conv2d_1 (Conv2D)            (None, 64, 64, 64)        3136      \n",
      "_________________________________________________________________\n",
      "batch_normalization_1 (Batch (None, 64, 64, 64)        256       \n",
      "_________________________________________________________________\n",
      "leaky_re_lu_1 (LeakyReLU)    (None, 64, 64, 64)        0         \n",
      "_________________________________________________________________\n",
      "max_pooling2d_1 (MaxPooling2 (None, 32, 32, 64)        0         \n",
      "_________________________________________________________________\n",
      "conv2d_2 (Conv2D)            (None, 32, 32, 192)       110592    \n",
      "_________________________________________________________________\n",
      "batch_normalization_2 (Batch (None, 32, 32, 192)       768       \n",
      "_________________________________________________________________\n",
      "leaky_re_lu_2 (LeakyReLU)    (None, 32, 32, 192)       0         \n",
      "_________________________________________________________________\n",
      "max_pooling2d_2 (MaxPooling2 (None, 16, 16, 192)       0         \n",
      "_________________________________________________________________\n",
      "conv2d_3 (Conv2D)            (None, 16, 16, 128)       24576     \n",
      "_________________________________________________________________\n",
      "batch_normalization_3 (Batch (None, 16, 16, 128)       512       \n",
      "_________________________________________________________________\n",
      "leaky_re_lu_3 (LeakyReLU)    (None, 16, 16, 128)       0         \n",
      "_________________________________________________________________\n",
      "conv2d_4 (Conv2D)            (None, 16, 16, 256)       294912    \n",
      "_________________________________________________________________\n",
      "batch_normalization_4 (Batch (None, 16, 16, 256)       1024      \n",
      "_________________________________________________________________\n",
      "leaky_re_lu_4 (LeakyReLU)    (None, 16, 16, 256)       0         \n",
      "_________________________________________________________________\n",
      "conv2d_5 (Conv2D)            (None, 16, 16, 256)       65536     \n",
      "_________________________________________________________________\n",
      "batch_normalization_5 (Batch (None, 16, 16, 256)       1024      \n",
      "_________________________________________________________________\n",
      "leaky_re_lu_5 (LeakyReLU)    (None, 16, 16, 256)       0         \n",
      "_________________________________________________________________\n",
      "conv2d_6 (Conv2D)            (None, 16, 16, 512)       1179648   \n",
      "_________________________________________________________________\n",
      "batch_normalization_6 (Batch (None, 16, 16, 512)       2048      \n",
      "_________________________________________________________________\n",
      "leaky_re_lu_6 (LeakyReLU)    (None, 16, 16, 512)       0         \n",
      "_________________________________________________________________\n",
      "max_pooling2d_3 (MaxPooling2 (None, 8, 8, 512)         0         \n",
      "_________________________________________________________________\n",
      "conv2d_7 (Conv2D)            (None, 8, 8, 256)         131072    \n",
      "_________________________________________________________________\n",
      "batch_normalization_7 (Batch (None, 8, 8, 256)         1024      \n",
      "_________________________________________________________________\n",
      "leaky_re_lu_7 (LeakyReLU)    (None, 8, 8, 256)         0         \n",
      "_________________________________________________________________\n",
      "conv2d_8 (Conv2D)            (None, 8, 8, 512)         1179648   \n",
      "_________________________________________________________________\n",
      "batch_normalization_8 (Batch (None, 8, 8, 512)         2048      \n",
      "_________________________________________________________________\n",
      "leaky_re_lu_8 (LeakyReLU)    (None, 8, 8, 512)         0         \n",
      "_________________________________________________________________\n",
      "conv2d_9 (Conv2D)            (None, 8, 8, 256)         131072    \n",
      "_________________________________________________________________\n",
      "batch_normalization_9 (Batch (None, 8, 8, 256)         1024      \n",
      "_________________________________________________________________\n",
      "leaky_re_lu_9 (LeakyReLU)    (None, 8, 8, 256)         0         \n",
      "_________________________________________________________________\n",
      "conv2d_10 (Conv2D)           (None, 8, 8, 512)         1179648   \n",
      "_________________________________________________________________\n",
      "batch_normalization_10 (Batc (None, 8, 8, 512)         2048      \n",
      "_________________________________________________________________\n",
      "leaky_re_lu_10 (LeakyReLU)   (None, 8, 8, 512)         0         \n",
      "_________________________________________________________________\n",
      "zero_padding2d_1 (ZeroPaddin (None, 10, 10, 512)       0         \n",
      "_________________________________________________________________\n",
      "locally_connected2d_1 (Local (None, 8, 8, 256)         75497472  \n",
      "_________________________________________________________________\n",
      "batch_normalization_11 (Batc (None, 8, 8, 256)         1024      \n",
      "_________________________________________________________________\n",
      "leaky_re_lu_11 (LeakyReLU)   (None, 8, 8, 256)         0         \n",
      "_________________________________________________________________\n",
      "flatten_1 (Flatten)          (None, 16384)             0         \n",
      "_________________________________________________________________\n",
      "dense_1 (Dense)              (None, 500)               8192500   \n",
      "_________________________________________________________________\n",
      "dense_2 (Dense)              (None, 5)                 2505      \n",
      "=================================================================\n",
      "Total params: 88,005,117\n",
      "Trainable params: 87,998,717\n",
      "Non-trainable params: 6,400\n",
      "_________________________________________________________________\n"
     ]
    }
   ],
   "source": [
    "model = CustomCNN()\n",
    "model.summary()\n",
    "earlystopper = EarlyStopping(patience=4)\n",
    "tblog = TensorBoard(\n",
    "        log_dir='./out/logs',\n",
    "        histogram_freq=0,\n",
    "        write_graph=True,\n",
    "        embeddings_freq=0)\n",
    "checkpointer = ModelCheckpoint('custom_cnn_model.h5', save_best_only=True)"
   ]
  },
  {
   "cell_type": "code",
   "execution_count": null,
   "metadata": {},
   "outputs": [
    {
     "name": "stdout",
     "output_type": "stream",
     "text": [
      "Train on 3600 samples, validate on 400 samples\n",
      "Epoch 1/20\n",
      "3600/3600 [==============================] - 139s 39ms/step - loss: 446.9118 - bbox_mIOU: 0.0447 - coord_only_mIOU: 0.0447 - no_coord_error: 47.1655 - val_loss: 5.7110 - val_bbox_mIOU: 0.0063 - val_coord_only_mIOU: 0.0063 - val_no_coord_error: 0.8446\n",
      "Epoch 2/20\n",
      "3600/3600 [==============================] - 132s 37ms/step - loss: 24.8489 - bbox_mIOU: 0.0573 - coord_only_mIOU: 0.0573 - no_coord_error: 4.8100 - val_loss: 7.2974 - val_bbox_mIOU: 0.0814 - val_coord_only_mIOU: 0.0814 - val_no_coord_error: 0.3340\n",
      "Epoch 3/20\n",
      " 760/3600 [=====>........................] - ETA: 1:40 - loss: 3.3095 - bbox_mIOU: 0.0815 - coord_only_mIOU: 0.0815 - no_coord_error: 0.6562"
     ]
    }
   ],
   "source": [
    "LD_COORD = 1.5\n",
    "LD_OBJ = 6\n",
    "LD_NOOBJ = 0.1\n",
    "\n",
    "adam_opt = Adam(lr=0.001, beta_1=0.9, beta_2=0.999, epsilon=1e-08, decay=0.0)\n",
    "model.compile(optimizer=adam_opt, loss=bbox_loss_batch(coord_scale=LD_COORD, obj_scale=LD_OBJ, noobj_scale=LD_NOOBJ),\n",
    "              metrics=[bbox_mIOU, coord_only_mIOU, no_coord_error])\n",
    "model.fit(x=X_train, y=Y_train, batch_size=8, epochs=20, validation_split=0.1, callbacks=[earlystopper, checkpointer, tblog])"
   ]
  },
  {
   "cell_type": "code",
   "execution_count": 10,
   "metadata": {},
   "outputs": [],
   "source": [
    "def reset_train():\n",
    "    import keras.backend as K\n",
    "    K.clear_session()"
   ]
  },
  {
   "cell_type": "code",
   "execution_count": 6,
   "metadata": {},
   "outputs": [],
   "source": [
    "Y_train_pred = model.predict(X_train)\n",
    "# Y_train_pred = original_bounding_box(Y_train_pred)"
   ]
  },
  {
   "cell_type": "code",
   "execution_count": 7,
   "metadata": {},
   "outputs": [
    {
     "name": "stdout",
     "output_type": "stream",
     "text": [
      "[1.         0.62890625 0.49609375 0.7265625  0.9921875 ]\n",
      "[ 0.6424909 -5.9981503 -4.0257206 -1.0698612  2.1899965]\n"
     ]
    }
   ],
   "source": [
    "ix=5\n",
    "print(Y_train[ix])\n",
    "print(Y_train_pred[ix])"
   ]
  },
  {
   "cell_type": "code",
   "execution_count": null,
   "metadata": {},
   "outputs": [],
   "source": []
  }
 ],
 "metadata": {
  "kernelspec": {
   "display_name": "Python 3",
   "language": "python",
   "name": "python3"
  },
  "language_info": {
   "codemirror_mode": {
    "name": "ipython",
    "version": 3
   },
   "file_extension": ".py",
   "mimetype": "text/x-python",
   "name": "python",
   "nbconvert_exporter": "python",
   "pygments_lexer": "ipython3",
   "version": "3.6.5"
  }
 },
 "nbformat": 4,
 "nbformat_minor": 2
}
