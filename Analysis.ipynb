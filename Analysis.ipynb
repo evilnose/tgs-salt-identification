{
 "cells": [
  {
   "cell_type": "code",
   "execution_count": 1,
   "metadata": {},
   "outputs": [
    {
     "name": "stderr",
     "output_type": "stream",
     "text": [
      "Using TensorFlow backend.\n"
     ]
    }
   ],
   "source": [
    "from keras.models import load_model\n",
    "import keras.losses\n",
    "import keras.metrics\n",
    "\n",
    "from trainer.constants import IM_SHAPE_BBOX\n",
    "from trainer.data import load_train_data, bounding_box, normalize_bounding_box, original_bounding_box\n",
    "from trainer.utils import bbox_loss_batch, bbox_mIOU"
   ]
  },
  {
   "cell_type": "code",
   "execution_count": 2,
   "metadata": {
    "scrolled": true
   },
   "outputs": [],
   "source": [
    "keras.losses.inner_loss = bbox_loss_batch(1, 5, 0.1)\n",
    "keras.metrics.bbox_mIOU = bbox_mIOU\n",
    "model = load_model('custom_cnn_model.h5')"
   ]
  },
  {
   "cell_type": "code",
   "execution_count": 4,
   "metadata": {},
   "outputs": [],
   "source": [
    "X_train, Y_train_orig = load_train_data(resize_shape=IM_SHAPE_BBOX)\n",
    "Y_train_unscaled = bounding_box(Y_train_orig)\n",
    "Y_train = normalize_bounding_box(Y_train_unscaled)"
   ]
  },
  {
   "cell_type": "code",
   "execution_count": 5,
   "metadata": {},
   "outputs": [
    {
     "name": "stdout",
     "output_type": "stream",
     "text": [
      "4000/4000 [==============================] - 33s 8ms/step\n"
     ]
    }
   ],
   "source": [
    "res = model.evaluate(x=X_train, y=Y_train)"
   ]
  },
  {
   "cell_type": "code",
   "execution_count": 8,
   "metadata": {},
   "outputs": [
    {
     "name": "stdout",
     "output_type": "stream",
     "text": [
      "[loss, mIOU]\n",
      "[0.31758892560005186, 0.19524757075309754]\n"
     ]
    }
   ],
   "source": [
    "print('[loss, mIOU]')\n",
    "print(res)"
   ]
  },
  {
   "cell_type": "code",
   "execution_count": 9,
   "metadata": {},
   "outputs": [],
   "source": [
    "Y_train_pred = model.predict(X_train)"
   ]
  },
  {
   "cell_type": "code",
   "execution_count": 21,
   "metadata": {},
   "outputs": [
    {
     "name": "stdout",
     "output_type": "stream",
     "text": [
      "[1.         0.1875     0.10546875 0.375      0.2109375 ]\n",
      "[0.95818377 0.3897212  0.54383224 0.6339289  0.6725404 ]\n"
     ]
    }
   ],
   "source": [
    "ix=12\n",
    "print(Y_train[ix])\n",
    "print(Y_train_pred[ix])"
   ]
  },
  {
   "cell_type": "code",
   "execution_count": 10,
   "metadata": {},
   "outputs": [
    {
     "name": "stdout",
     "output_type": "stream",
     "text": [
      "[0.41362816]\n"
     ]
    }
   ],
   "source": [
    "import tensorflow as tf\n",
    "tf.reset_default_graph()\n",
    "with tf.Session() as sess:\n",
    "    # sess = tf_debug.TensorBoardDebugWrapperSession(sess, 'DESKTOP-QL1F43N:6064')\n",
    "    labels = tf.placeholder(tf.float32, (None, 5), name='labels')\n",
    "    predictions = tf.placeholder(tf.float32, [None, 5], name='predictions')\n",
    "    iou = bbox_mIOU(labels, predictions)\n",
    "    sess.run(tf.global_variables_initializer())\n",
    "    out = sess.run([iou], feed_dict={\n",
    "        labels: Y_train[ix:ix+1],\n",
    "        predictions: [[1,  0.86757857, 0.6710704,  0.85394347, 1.3460906 ]]\n",
    "    })\n",
    "    print(out)"
   ]
  },
  {
   "cell_type": "code",
   "execution_count": null,
   "metadata": {},
   "outputs": [],
   "source": []
  }
 ],
 "metadata": {
  "kernelspec": {
   "display_name": "Python 3",
   "language": "python",
   "name": "python3"
  },
  "language_info": {
   "codemirror_mode": {
    "name": "ipython",
    "version": 3
   },
   "file_extension": ".py",
   "mimetype": "text/x-python",
   "name": "python",
   "nbconvert_exporter": "python",
   "pygments_lexer": "ipython3",
   "version": "3.6.5"
  }
 },
 "nbformat": 4,
 "nbformat_minor": 2
}
